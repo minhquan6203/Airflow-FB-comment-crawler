{
 "cells": [
  {
   "cell_type": "code",
   "execution_count": 35,
   "metadata": {},
   "outputs": [
    {
     "name": "stdout",
     "output_type": "stream",
     "text": [
      "Connected to MongoDB\n",
      "found next url info\n",
      "1\n",
      "['data\\\\data_5.json', 'data\\\\data_6.json', 'data\\\\data_7.json', 'data\\\\data_8.json']\n",
      "Upload completed!\n"
     ]
    }
   ],
   "source": [
    "def upload_to_db():\n",
    "    try:\n",
    "        client = MongoClient('mongodb://localhost:27017/')\n",
    "        db = client['fb']  \n",
    "        collection = db['comments']  \n",
    "        print(\"Connected to MongoDB\")\n",
    "    except ConnectionFailure as e:\n",
    "        print(\"Could not connect to MongoDB:\", e)\n",
    "        return\n",
    "    \n",
    "    data_path='data'\n",
    "    brand='McDonalds'\n",
    "    if os.path.exists(f\"{data_path}/last_info.json\"):\n",
    "        print('found next url info')\n",
    "        with open(f\"{data_path}/last_info.json\", \"r\") as f:\n",
    "            last_info=json.load(f)\n",
    "            number=last_info['next_number']        \n",
    "    else:\n",
    "        number=0\n",
    "\n",
    "    list_file = sorted(os.listdir(data_path))\n",
    "    list_file = [os.path.join(data_path, file) for file in list_file if file.startswith('data_') and int(file.split('_')[1].split('.')[0]) >= number]\n",
    "    for comment_file in list_file:\n",
    "        try:\n",
    "            with open(comment_file, 'r', encoding='utf-8') as f:\n",
    "                data = json.load(f)\n",
    "                documents = []\n",
    "                for ann in data['data']:\n",
    "                    for comment in ann['comments']:\n",
    "                        doc = {\n",
    "                            \"ID_Post\": ann['id'],\n",
    "                            \"ID_Comment\": comment[\"id\"],\n",
    "                            \"ID_User\": comment[\"from\"][\"id\"],\n",
    "                            \"Brand\": brand,\n",
    "                            \"Comment\": comment[\"message\"],\n",
    "                            \"Comment_Like\": comment[\"like_count\"],\n",
    "                            \"Date\": comment[\"created_time\"]\n",
    "                        }\n",
    "                        documents.append(doc)\n",
    "\n",
    "                # Insert các document vào MongoDB\n",
    "                if documents:\n",
    "                    collection.insert_many(documents)\n",
    "                    print(f\"Inserted {len(documents)} documents into MongoDB\")\n",
    "\n",
    "        except (IOError, json.JSONDecodeError) as e:\n",
    "            print(f\"Error reading file {comment_file}: {e}\")\n",
    "        except InvalidDocument as e:\n",
    "            print(f\"Error in document structure: {e}\")\n",
    "        except Exception as e:\n",
    "            print(f\"An unexpected error occurred: {e}\")\n",
    "\n",
    "    print(\"Upload completed!\")\n",
    "\n"
   ]
  },
  {
   "cell_type": "code",
   "execution_count": 1,
   "metadata": {},
   "outputs": [
    {
     "name": "stdout",
     "output_type": "stream",
     "text": [
      "0\n"
     ]
    }
   ],
   "source": [
    "for i in range(1):\n",
    "    print(i)"
   ]
  }
 ],
 "metadata": {
  "kernelspec": {
   "display_name": "Python 3",
   "language": "python",
   "name": "python3"
  },
  "language_info": {
   "codemirror_mode": {
    "name": "ipython",
    "version": 3
   },
   "file_extension": ".py",
   "mimetype": "text/x-python",
   "name": "python",
   "nbconvert_exporter": "python",
   "pygments_lexer": "ipython3",
   "version": "3.10.0"
  }
 },
 "nbformat": 4,
 "nbformat_minor": 2
}
